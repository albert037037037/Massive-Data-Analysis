{
 "cells": [
  {
   "cell_type": "code",
   "execution_count": 1,
   "metadata": {},
   "outputs": [],
   "source": [
    "from pyspark import SparkConf, SparkContext"
   ]
  },
  {
   "cell_type": "code",
   "execution_count": 2,
   "metadata": {},
   "outputs": [],
   "source": [
    "def mapper_input(line):\n",
    "    return_list = line.split(',')\n",
    "    if return_list[0] == \"userId\":\n",
    "        return\n",
    "    else:\n",
    "        return(int(return_list[1]), [[return_list[0], return_list[2]]])\n",
    "def mapper_cal_mean(line):\n",
    "    mean = 0.0\n",
    "    list_sqrt = line[1]\n",
    "    return_list = []\n",
    "    tmp = 0.0\n",
    "    for item in line[1]:\n",
    "        mean += float(item[1])\n",
    "    mean = float(mean / len(line[1]))\n",
    "    for item in list_sqrt:\n",
    "        tmp += pow(float(item[1]) - mean, 2)\n",
    "    tmp = pow(tmp, 0.5)\n",
    "    for item in list_sqrt:\n",
    "        return_list.append((item[0], (line[0], float(item[1]) - mean, tmp))) # (user, (movie, rating - mean, L2_norm))\n",
    "    return return_list"
   ]
  },
  {
   "cell_type": "code",
   "execution_count": 3,
   "metadata": {},
   "outputs": [],
   "source": [
    "def mapper_pair(line):\n",
    "    return_list = []\n",
    "    for i in range(len(line[1])):\n",
    "        for j in range(i+1, len(line[1])):\n",
    "            return_list.append(((line[1][i][0], line[1][j][0]), (line[1][i][1] * line[1][j][1], line[1][i][2]*line[1][j][2])))\n",
    "    return return_list"
   ]
  },
  {
   "cell_type": "code",
   "execution_count": 4,
   "metadata": {},
   "outputs": [],
   "source": [
    "data = sc.textFile(\"ratings.csv\").map(mapper_input).filter(lambda x: x != None).reduceByKey(lambda a,b: a+b).sortByKey(ascending = True)\n",
    "data_with_mean = data.flatMap(mapper_cal_mean).groupByKey().mapValues(list)\n",
    "data_with_movie_pair = data_with_mean.flatMap(mapper_pair).groupByKey().mapValues(list)\n",
    "#print(data_with_movie_pair.collect()[0:50])"
   ]
  },
  {
   "cell_type": "code",
   "execution_count": 5,
   "metadata": {},
   "outputs": [],
   "source": [
    "def mapper_div(line):\n",
    "    tmp = 0\n",
    "    for item in line[1]:\n",
    "        if item[1] == 0:\n",
    "            continue\n",
    "        else:\n",
    "            tmp += (float(item[0])/float(item[1]))\n",
    "    return (line[0], tmp)"
   ]
  },
  {
   "cell_type": "code",
   "execution_count": 6,
   "metadata": {},
   "outputs": [],
   "source": [
    "data_with_movie_pair = data_with_movie_pair.map(mapper_div)\n",
    "#print(data_with_movie_pair.collect()[0:50])"
   ]
  },
  {
   "cell_type": "code",
   "execution_count": 7,
   "metadata": {},
   "outputs": [],
   "source": [
    "def mapper_adjust(line):\n",
    "    return (line[1], line[0])"
   ]
  },
  {
   "cell_type": "code",
   "execution_count": 8,
   "metadata": {},
   "outputs": [],
   "source": [
    "data_with_movie_pair = data_with_movie_pair.sortByKey(ascending = True)#.map(mapper_adjust).sortByKey(ascending = False)"
   ]
  },
  {
   "cell_type": "code",
   "execution_count": 9,
   "metadata": {},
   "outputs": [],
   "source": [
    "#print(data_with_movie_pair.take(100))"
   ]
  },
  {
   "cell_type": "code",
   "execution_count": 10,
   "metadata": {},
   "outputs": [],
   "source": [
    "# print(data_with_movie_pair.count())"
   ]
  },
  {
   "cell_type": "code",
   "execution_count": 11,
   "metadata": {},
   "outputs": [],
   "source": [
    "output = data_with_movie_pair.collect()\n",
    "outfile = open(\"Output.txt\", \"w\")\n",
    "for i in range(len(output)):\n",
    "    outfile.write(\"(\" + str(output[i][0][0]) + \", \" + str(output[i][0][1]) + \") : \" + str(output[i][1]))\n",
    "    outfile.write(\"\\n\")\n",
    "outfile.close()"
   ]
  },
  {
   "cell_type": "code",
   "execution_count": 12,
   "metadata": {},
   "outputs": [],
   "source": [
    "sc.stop()"
   ]
  }
 ],
 "metadata": {
  "kernelspec": {
   "display_name": "Python 3",
   "language": "python",
   "name": "python3"
  },
  "language_info": {
   "codemirror_mode": {
    "name": "ipython",
    "version": 3
   },
   "file_extension": ".py",
   "mimetype": "text/x-python",
   "name": "python",
   "nbconvert_exporter": "python",
   "pygments_lexer": "ipython3",
   "version": "3.6.11"
  }
 },
 "nbformat": 4,
 "nbformat_minor": 4
}
