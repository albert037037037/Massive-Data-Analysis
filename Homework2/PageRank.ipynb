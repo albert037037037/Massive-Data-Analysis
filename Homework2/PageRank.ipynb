{
 "cells": [
  {
   "cell_type": "code",
   "execution_count": 1,
   "metadata": {
    "scrolled": true
   },
   "outputs": [],
   "source": [
    "from pyspark import SparkConf, SparkContext"
   ]
  },
  {
   "cell_type": "code",
   "execution_count": 2,
   "metadata": {},
   "outputs": [],
   "source": [
    "# Mapper for get (from, to), (to, []) KV pair and use flatMap to get both KV pair\n",
    "def mapper0(link):\n",
    "    list1 = []\n",
    "    list1 = link.split('\\t')\n",
    "    return (list1, (list1[1], []))"
   ]
  },
  {
   "cell_type": "markdown",
   "metadata": {},
   "source": [
    "## mapper0\n",
    "\n",
    "   在這個 mapper 裡，除了將本來題目就有給的 (from, to) KV pair\n",
    "   \n",
    "   還會回傳一個 (to, []) pair 的 KV pair \n",
    "   \n",
    "   這個 pair 是若沒有回傳這個 pair，沒有 outlink 的 node 就會被拋棄，這樣 PageRank就會錯掉\n",
    "   \n",
    "   所以我就多回傳了這個 KV pair\n",
    "   \n",
    "   並使用 flatMap 來使用這個 map function"
   ]
  },
  {
   "cell_type": "code",
   "execution_count": 3,
   "metadata": {},
   "outputs": [],
   "source": [
    "# Since after mapper0, it will construct a lot of [] in some node\n",
    "# So we will use this mapper to delete it\n",
    "def mapper1(link):\n",
    "    list = []\n",
    "    for i in link[1]:\n",
    "        if i != []:\n",
    "            list.append(i)\n",
    "    return (link[0], list)"
   ]
  },
  {
   "cell_type": "markdown",
   "metadata": {},
   "source": [
    "## mapper1\n",
    "\n",
    "   這個 mapper 裡，是為了處理從 mapper0 得出來的 KV pair，在groupByKey後\n",
    "   \n",
    "   有可能產生 ( A, [[], [], []]) 這種有很多 value 為空list的狀況\n",
    "   \n",
    "   所以在這裡我們會先用一個空集合來代表新的 value list\n",
    "   \n",
    "   然後碰到不是空 list的元素就append進去\n",
    "   \n",
    "   最後再return 回 list\n",
    "   \n",
    "   這樣若有 value 全部都為空list的 node，最後也還能得到空list"
   ]
  },
  {
   "cell_type": "code",
   "execution_count": 4,
   "metadata": {},
   "outputs": [],
   "source": [
    "# Mapper for counting the outedge and reconstruct the rdd data structure to simplfy for using it\n",
    "def mapper2(link):\n",
    "    cnt = 0\n",
    "    for ch in link[1][0]:\n",
    "        cnt+=1\n",
    "    return (link[0], link[1][0], link[1][1] , cnt)"
   ]
  },
  {
   "cell_type": "markdown",
   "metadata": {},
   "source": [
    "## mapper2\n",
    "\n",
    "   這個 mapper 是要計算每個 node 有幾個 outlink\n",
    "    \n",
    "   於是我就用一個cnt，去算每一個 node 由剛剛 mapper1 後可得到的adjacent list有多少個元素\n",
    "    \n",
    "   並且重新回傳我希望的 rdd 的 structure"
   ]
  },
  {
   "cell_type": "code",
   "execution_count": 5,
   "metadata": {},
   "outputs": [],
   "source": [
    "# Mapper for computing the Rnew' (Before computing teleporting set)\n",
    "def mapper3(link):\n",
    "    list = []\n",
    "    for i in range (link[3]):\n",
    "        list.append((link[1][i], link[2]/link[3] * Beta))\n",
    "    list.append((link[0], 0))\n",
    "    return list"
   ]
  },
  {
   "cell_type": "markdown",
   "metadata": {},
   "source": [
    "## mapper3\n",
    "\n",
    "   在這裡要實踐 $rnew' = \\sum_{i->j} \\beta*rold_{i}/d_{i}$\n",
    "   \n",
    "   在這邊我希望我回傳多個 KV pair，每個 pair 都是 ( node_be_contributed, total_contribution_by_this_node )\n",
    "   \n",
    "   所以我就讓讀取 node 的 adjacent list，讓裡面每一個元素 ( link[1][i] ) 當成 KV pair 的 key\n",
    "   \n",
    "   而 value 的部分，就取用當前 node 的 PageRank ( link[2] ) 除以此 node 有多少 outlink ( link[3] )\n",
    "   \n",
    "   然後最後為了防止此 node 沒有 inlink，在經過一次 iteration 後就會被拋棄\n",
    "   \n",
    "   在回傳的 list 最後加一個 ( contribute_node, 0 ) 的 KV pair，即使此 node 有 inlink\n",
    "   \n",
    "   在後面 ReduceByKey() 也會被 reduce 掉\n",
    "   \n",
    "   \n",
    "   然後用 flatMap 來使用此 mapper，可以直接拿到每個 KV pair"
   ]
  },
  {
   "cell_type": "code",
   "execution_count": 6,
   "metadata": {},
   "outputs": [],
   "source": [
    "# Mapper for computing Rnew (teleporting set)\n",
    "def mapper4(page):\n",
    "    num = page[1]\n",
    "    num += (1-Sum)/N\n",
    "    return (page[0], num)"
   ]
  },
  {
   "cell_type": "markdown",
   "metadata": {},
   "source": [
    "## mapper4\n",
    "   這個 mapper 是用來處理 Random teleport的\n",
    "   \n",
    "   首先用 num 拿出當前的 PageRank(因為tuple直接修改)\n",
    "   \n",
    "   並使用 Global 變數 Sum( Sum 為 $rnew'$ 的總和，底下會解釋如何實作)\n",
    "   \n",
    "   計算 $ num = num + (1-Sum)/N $\n",
    "   \n",
    "   並取出 key ，包成 ( key, num ) return"
   ]
  },
  {
   "cell_type": "code",
   "execution_count": 7,
   "metadata": {},
   "outputs": [],
   "source": [
    "Beta = 0.8 # Let Beta = 0.8\n",
    "link = sc.textFile(\"p2p-Gnutella04.txt\")  # Get file\n",
    "link = link.flatMap(mapper0).groupByKey().map(lambda x : (x[0], list(x[1])))   # After mapper0, groupByKey them\n",
    "N = link.count()   # Count how many node\n",
    "link = link.map(mapper1)  # delete the duplicated [] in link\n",
    "ranks = link.map(lambda node: (node[0],1.0/N)) # Give initial pagerank for every node\n",
    "Sum = 0 # Global variable"
   ]
  },
  {
   "cell_type": "markdown",
   "metadata": {},
   "source": [
    "## mapper\n",
    "\n",
    "上面這格程式碼中第二行的 mapper 只是為了在 groupByKey 後可以讓後面的 value 好好的存在一個 list 裡面\n",
    "\n",
    "第六行的 mapper 則是為了要給每一個 node 一個初始的 PageRank，於是就用 1/N 得到每個 node 的初始 PageRank 後\n",
    "\n",
    "用一個 mapper 把 PageRank 接在其他資料的後面"
   ]
  },
  {
   "cell_type": "code",
   "execution_count": 8,
   "metadata": {},
   "outputs": [],
   "source": [
    "for i in range(20):\n",
    "    newlink = link.join(ranks) # put pagerank into every node's rdd\n",
    "    newlink = newlink.map(mapper2) # count outlink of every node \n",
    "    r_new_p = newlink.flatMap(mapper3) \n",
    "    r_new_p = r_new_p.reduceByKey(lambda a, b: a+b)\n",
    "    Sum = r_new_p.values().sum() # Sum r_new' to deal with deadend\n",
    "    r_new = r_new_p.map(mapper4) # Give teleport prob for every node\n",
    "    ranks = r_new # assign r_new to rjold"
   ]
  },
  {
   "cell_type": "markdown",
   "metadata": {},
   "source": [
    "## Reducer\n",
    "\n",
    "   這次實作中，唯一用到的 Reducer 就是在上面這格程式碼中第五行的 ReduceByKey(lambda a, b : a+b)\n",
    "   \n",
    "   在這邊為了加總許多 KV pair，其中 key 為某個 node， value 為被某個其他的 node 貢獻的 PageRank\n",
    "   \n",
    "   由於會有許多相同的 key 不同 value 的值需被加總\n",
    "   \n",
    "   所以就用 ReduceByKey(lambda a, b : a+b) 就可以得到， ( node, total_PageRank_contributed_by_others ) 的 KV pair\n",
    " \n",
    " ## Sum\n",
    "   Sum 這邊是透過兩個 RDD 的 API 來得到\n",
    "   \n",
    "   首先先對前面算出來，存每個 KV pair 的 RDD 執行 .values()\n",
    "   \n",
    "   這個 API 可以讓我們的RDD變成所有 value  \n",
    "   \n",
    "   接著再用 .sum() 這個 API\n",
    "   \n",
    "   可以幫我們 RDD 內所有元素加總起來\n",
    "   \n",
    "   故這樣即可得到 $rnew'$ 的總和"
   ]
  },
  {
   "cell_type": "code",
   "execution_count": 9,
   "metadata": {},
   "outputs": [],
   "source": [
    "ranks = ranks.sortBy(lambda x: x[1], False) # sort by value\n",
    "ans = ranks.take(10) # take top 10 vertices"
   ]
  },
  {
   "cell_type": "code",
   "execution_count": 10,
   "metadata": {},
   "outputs": [
    {
     "name": "stdout",
     "output_type": "stream",
     "text": [
      "1056 0.000632199\n",
      "1054 0.000629156\n",
      "1536 0.00052391\n",
      "171 0.000511622\n",
      "453 0.000495659\n",
      "407 0.000484844\n",
      "263 0.000479619\n",
      "4664 0.000470498\n",
      "261 0.000462892\n",
      "410 0.00046151\n"
     ]
    }
   ],
   "source": [
    "for i in range(10):\n",
    "    print(ans[i][0], '%.6g'%ans[i][1])"
   ]
  },
  {
   "cell_type": "code",
   "execution_count": 11,
   "metadata": {},
   "outputs": [],
   "source": [
    "outF = open(\"Outputfile.txt\", \"w\")\n",
    "for i in range(10):\n",
    "    outF.write(str(ans[i][0]) + ' ' + str('%.6g'%ans[i][1]))\n",
    "    outF.write(\"\\n\")\n",
    "outF.close()"
   ]
  },
  {
   "cell_type": "code",
   "execution_count": 12,
   "metadata": {},
   "outputs": [],
   "source": [
    "sc.stop()"
   ]
  },
  {
   "cell_type": "code",
   "execution_count": null,
   "metadata": {},
   "outputs": [],
   "source": []
  },
  {
   "cell_type": "code",
   "execution_count": null,
   "metadata": {},
   "outputs": [],
   "source": []
  }
 ],
 "metadata": {
  "kernelspec": {
   "display_name": "Python 3",
   "language": "python",
   "name": "python3"
  },
  "language_info": {
   "codemirror_mode": {
    "name": "ipython",
    "version": 3
   },
   "file_extension": ".py",
   "mimetype": "text/x-python",
   "name": "python",
   "nbconvert_exporter": "python",
   "pygments_lexer": "ipython3",
   "version": "3.6.11"
  }
 },
 "nbformat": 4,
 "nbformat_minor": 4
}
